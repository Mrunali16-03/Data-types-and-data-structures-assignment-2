{
  "nbformat": 4,
  "nbformat_minor": 0,
  "metadata": {
    "colab": {
      "provenance": []
    },
    "kernelspec": {
      "name": "python3",
      "display_name": "Python 3"
    },
    "language_info": {
      "name": "python"
    }
  },
  "cells": [
    {
      "cell_type": "markdown",
      "source": [
        "# Data types and data structure assignment 2"
      ],
      "metadata": {
        "id": "OfLPEFnOm8oD"
      }
    },
    {
      "cell_type": "markdown",
      "source": [
        "# Theory Questions"
      ],
      "metadata": {
        "id": "nyA-kGWQnHOD"
      }
    },
    {
      "cell_type": "markdown",
      "source": [
        "1. **What are data structures, and why are they important?**\n",
        "\n",
        "-  Data structures a way of organizing, storing, and managing of data so that they can be use efficiently, data structures work as containers that hold your data and determine how you can interact with it. Different containers are better suited for different types of items.\n",
        "\n",
        "-  they are important because:-\n",
        "Choosing the right data structure significantly impacts the efficiency and performance of your progress.\n",
        "\n",
        "-  Well-chosen data structures can:\n",
        "\n",
        "i) Simplify data manipulation (adding, removing, modifying elements).\n",
        "\n",
        "ii) Optimize searching and sorting operations.\n",
        "\n",
        "iii)  Conserve memory usage."
      ],
      "metadata": {
        "id": "weVpyI0FnfCw"
      }
    },
    {
      "cell_type": "markdown",
      "source": [
        "2. **Explain the difference between mutable and immutable data types with examples.**\n",
        "\n",
        "- (A). Mutable data types Definition: Mutable data types are those whose values can be changed or modified after their creation. This means you can update the content of a mutable object without creating a new object in memory.\n",
        "\n",
        "Examples: Common mutable data types in Python include:\n",
        "\n",
        "(i) Lists: Ordered collections that allow elements to be added, removed, or changed.\n",
        "\n",
        "(ii) Dictionaries: Unordered collections of key-value pairs, where both keys and values can be modified.\n",
        "\n",
        "(iii) Sets: Unordered collections of unique elements that allow adding or removing items.\n",
        "\n",
        "(iv) User-Defined Classes: Depending on how they are defined, instances of user-defined classes can be mutable\n",
        "\n",
        "- (B). Immutable data types Definition: Immutable data types are those whose values cannot be changed after they are created. Any operation that appears to modify an immutable object actually creates a new object with the updated value, leaving the original object untouched.\n",
        "\n",
        "Examples: Common immutable data types in Python include:\n",
        "\n",
        "(i) Numbers: Integers, floats, and complex numbers.\n",
        "\n",
        "(ii) Strings: Sequences of characters.\n",
        "\n",
        "(iii) Tuples: Ordered collections of elements (similar to lists but immutable).\n",
        "\n",
        "(iv) Booleans: True/False values.\n",
        "\n",
        "(v) Frozensets: Immutable versions of sets."
      ],
      "metadata": {
        "id": "ov2PEGhfoTzh"
      }
    },
    {
      "cell_type": "markdown",
      "source": [
        "3. **What are the main differences between lists and tuples in Python?**\n",
        "\n",
        "- List:-\n",
        "\n",
        "(i) list are mutable in nature.\n",
        "\n",
        "(ii) list define using square braket \"[ ]\".\n",
        "\n",
        "(iii) Cannot be used as dictionary keys because they are mutable\n",
        "consume more memory and generally slower than tuples.\n",
        "\n",
        "- tuples:-\n",
        "\n",
        "(i) tuples are immutable in nature.\n",
        "\n",
        "(ii) tuples define using parentheses \"()\".\n",
        "(iii) Can be used as dictionary keys because they are immutable\n",
        "consume less memory and generally faster than list."
      ],
      "metadata": {
        "id": "YIERUBSRqBi-"
      }
    },
    {
      "cell_type": "markdown",
      "source": [
        "4. **Describe how dictionaries store data.**\n",
        "\n",
        "- dictionaries are the data set of unordered collections.\n",
        "\n",
        "(i) A dictionary is a collection of key-value pairs.\n",
        "\n",
        "(ii) Each key is unique and serves as an identifier for its associated value.\n",
        "\n",
        "(iii) Values can be of any data type, including lists, other dictionaries, or custom objects.\n",
        "\n",
        "(iv) Keys must be immutable (like strings, numbers, or tuples) and hashable to ensure they have a consistent hash value."
      ],
      "metadata": {
        "id": "zeBNR0CSqjeZ"
      }
    },
    {
      "cell_type": "markdown",
      "source": [
        "5. **Why might you use a set instead of a list in Python?**\n",
        "\n",
        "- That is because:-\n",
        "\n",
        "- Sets inherently store only unique elements. If you need a collection where duplicate values are not allowed, a set automatically handles this by preventing the addition of identical items. Lists, conversely, allow duplicates.\n",
        "\n",
        "- Sets provide built-in methods for common mathematical set operations like union, intersection, difference, and symmetric difference. These operations are highly optimized and simplify code when performing such comparisons between collections.\n",
        "\n",
        "- If you have a list with duplicate elements and need to obtain a collection of only unique elements, converting the list to a set and then back to a list (if order is not critical) is an efficient way to achieve this."
      ],
      "metadata": {
        "id": "2RXcYXo5qjbE"
      }
    },
    {
      "cell_type": "markdown",
      "source": [
        "6.  **What is a string in Python, and how is it different from a list?**\n",
        "\n",
        "- A string can be called as Characters arranged in an unchangeable order. Consider writing a sentence, a paragraph, or a piece of material.\n",
        "\n",
        "The reason strings differ from lists are:-\n",
        "\n",
        "-  Lists are mutable, meaning their elements can be changed, added, or removed after creation. Strings, on the other hand, are immutable. Once a string is created, its characters cannot be altered. If you need to modify a string, you must create a new string with the desired changes.\n",
        "\n",
        "- A string is specifically a sequence of characters and a list can contain elements of various data types (integers, strings, floats, even other lists).\n",
        "\n",
        "- Both lists and strings support indexing and slicing to access elements. However, the specific methods available for manipulation differ. Lists have methods like append(), remove(), and sort() that modify the list in place. Strings offer methods like upper(), lower(), replace(), and split(), which typically return new strings with the modifications instead of changing the original string."
      ],
      "metadata": {
        "id": "7vQ3MDnGqjXj"
      }
    },
    {
      "cell_type": "markdown",
      "source": [
        "7. **How do tuples ensure data integrity in Python?**\n",
        "\n",
        "- Tuples in Python are a great tool for ensuring data integrity, primarily due to their immutability. Immutability means that once a tuple is created, its elements cannot be changed, added, or removed. This property is crucial for maintaining the integrity of data within your Python programs because:\n",
        "\n",
        "- Prevents accidental modification.\n",
        "- Encourages predictable behavior.\n",
        "- Supports thread-safety."
      ],
      "metadata": {
        "id": "0azb9hiuqjUD"
      }
    },
    {
      "cell_type": "markdown",
      "source": [
        "8. **What is a hash table, and how does it relate to dictionaries in Python?**\n",
        "\n",
        "- A hash table is a data structure that efficiently stores and retrieves data in the form of key-value pairs. It works by using a hash function to transform a given key into an index within an internal array (also called a bucket array). This index then indicates where the corresponding value is stored in the array.\n",
        "\n",
        "- Dictionaries build on the hash table concept by introducing the concept of a key-value pairs. The key is used to reference the data being stored. Dictionaries hash the key, or the key-value pair, to provide an index into an underlying hash table."
      ],
      "metadata": {
        "id": "H_2lUHgzqjPT"
      }
    },
    {
      "cell_type": "markdown",
      "source": [
        "9. **Can lists contain different data types in Python?**\n",
        "\n",
        "- Yes, lists in Python can contain different data types. This is a key feature that makes them incredibly flexible and versatile.\n",
        "\n",
        "- You can create a single list that holds a combination of:\n",
        "\n",
        "(i) Integers\n",
        "\n",
        "(ii) Floats\n",
        "\n",
        "(iii) Strings\n",
        "\n",
        "(iv) Booleans\n",
        "\n",
        "(v) Even other data structures like nested lists, tuples, or dictionaries."
      ],
      "metadata": {
        "id": "4nSnN9KWqjMP"
      }
    },
    {
      "cell_type": "markdown",
      "source": [
        "10. **Explain why strings are immutable in Python**.\n",
        "\n",
        "- The immutability of strings in Python is a fundamental design choice that contributes to safer, more efficient, and easier-to-reason-about code. While it means you can't modify a string directly, the benefits it provides in terms of data integrity, performance, and thread safety are significant. Instead of modifying existing strings, you create new ones whenever you need a modified version."
      ],
      "metadata": {
        "id": "25ugxfjlqjJE"
      }
    },
    {
      "cell_type": "markdown",
      "source": [
        "11. **What advantages do dictionaries offer over lists for certain tasks?**\n",
        "\n",
        "- Dictionaries and lists are similar in a certain way that they both are unodered and mutable collection of elements and their items can hold various data types like(strings, numbers, boolean values) but the advantages do dictionaries offer over lists for certain tasks is Dictionaries in Python offer fast data retrieval: Unlike lists where you have to traverse through each element to find a value, dictionaries use hash tables for quick access to values based on keys."
      ],
      "metadata": {
        "id": "2ROMtDpwqjFz"
      }
    },
    {
      "cell_type": "markdown",
      "source": [
        "12. **Describe a scenario where using a tuple would be preferable over a list.**\n",
        "\n",
        "- If we don't want our data to be changed and prefer it to be read-only, then we should choose the tuple data type over lists. If we know our data will grow or shrink in the future, we need to use the list data type."
      ],
      "metadata": {
        "id": "DGL4SwQLvEqI"
      }
    },
    {
      "cell_type": "markdown",
      "source": [
        "13. **How do sets handle duplicate values in Python?**\n",
        "\n",
        "- In Python, sets inherently do not allow duplicate values. They are designed to store unique elements If you attempt to add a duplicate element to a set, it will simply be ignored, and the set will remain unchanged."
      ],
      "metadata": {
        "id": "pE7Fhgp2vEiJ"
      }
    },
    {
      "cell_type": "markdown",
      "source": [
        "14. **How does the “in” keyword work differently for lists and dictionaries?**\n",
        "\n",
        "- When used with a list, the 'in' keyword checks for the presence of a specific element within the list values while on other hand Dictionaries are implemented as hash tables. When you use 'in' with a dictionary, Python calculates a hash value for the target key and then quickly checks if that hash value exists in the dictionary's internal structure."
      ],
      "metadata": {
        "id": "pnbYIon3vEak"
      }
    },
    {
      "cell_type": "markdown",
      "source": [
        "15. **Can you modify the elements of a tuple? Explain why or why not.**\n",
        "\n",
        "- tuples are immutable sequences there size and elements are cannot be changed we cannot directly modify the elements of a tuple in Python but there is a way firts Convert the tuple to a list, modify the list, and then convert it back to a tuple but these techniques create new tuples rather than modifying the original in-place."
      ],
      "metadata": {
        "id": "Lv_hQKjsvEQk"
      }
    },
    {
      "cell_type": "markdown",
      "source": [
        "16. **What is a nested dictionary, and give an example of its use case?**\n",
        "\n",
        "- A nested dictionary in Python is a dictionary where the values of the outer dictionary are themselves other dictionaries. This structure allows for representing and organizing hierarchical or multi-layered data.\n"
      ],
      "metadata": {
        "id": "dx2mMyd0vD8H"
      }
    },
    {
      "cell_type": "markdown",
      "source": [
        "17. **Describe the time complexity of accessing elements in a dictionary.**\n",
        "\n",
        "- Accessing elements in a dictionary (or hash table) typically has a time complexity of O(1) on average. This means that the time it takes to retrieve a value by its key is, on average, constant and doesn't depend on the size of the dictionary. However, in the worst-case scenario (which is rare), the time complexity can be O(n), where n is the number of elements in the dictionary, due to hash collisions."
      ],
      "metadata": {
        "id": "ce45_9kovDpE"
      }
    },
    {
      "cell_type": "markdown",
      "source": [
        "18. **In what situations are lists preferred over dictionaries?**\n",
        "\n",
        "- Python lists are generally preferred over dictionaries in situations where:\n",
        "\n",
        "(i) Ordered Collections: When the order of elements is crucial, lists are the better choice. They maintain the order in which items are added, allowing access by numerical indices.\n",
        "\n",
        "(ii) Sequential Processing: If you need to iterate through elements and perform operations on them sequentially, lists are highly suitable.\n",
        "\n",
        "(iii) Indexed Access: When you need efficient access to elements using numerical indices, lists excel with constant-time complexity (O(1)) for retrieving elements by index.\n",
        "\n",
        "(iv) Sorting Data: Lists have built-in methods for efficient sorting of elements, which is useful when data needs to be sorted in a specific order."
      ],
      "metadata": {
        "id": "0DfqB6AgvDcC"
      }
    },
    {
      "cell_type": "markdown",
      "source": [
        "19. **Why are dictionaries considered unordered, and how does that affect data retrieval?**\n",
        "\n",
        "- Dictionaries were considered unordered because they did not guarantee the order in which items were stored or retrieved. This was primarily due to their underlying implementation using hash tables.\n",
        "\n",
        "- The unordered nature of dictionaries means that when you iterate through a dictionary or try to access its elements, you cannot rely on the order in which the key-value pairs were initially added."
      ],
      "metadata": {
        "id": "N-6z_dZlvC-i"
      }
    },
    {
      "cell_type": "markdown",
      "source": [
        "20. **Explain the difference between a list and a dictionary in terms of data retrieval.**\n",
        "\n",
        "- Lists: Ordered, accessed by integer indices (0, 1, 2...), efficient for ordered data and sequential access.\n",
        "\n",
        "- Dictionaries: Unordered (in older Python versions), accessed by unique keys (strings, numbers, tuples, etc.), efficient for fast lookups based on unique identifiers.\n",
        "\n",
        "- Performance: Both offer fast retrieval, but lists are faster for index-based access, while dictionaries are faster for key-based lookups, especially with large datasets."
      ],
      "metadata": {
        "id": "dGBEaGyqvC30"
      }
    },
    {
      "cell_type": "markdown",
      "source": [
        "# Practical Questions"
      ],
      "metadata": {
        "id": "wSaB49l1yI2j"
      }
    },
    {
      "cell_type": "markdown",
      "source": [
        "1. **Write a code to create a string with your name and print it.**"
      ],
      "metadata": {
        "id": "ZbEGP2ltyQkb"
      }
    },
    {
      "cell_type": "code",
      "source": [
        "string_name = \"Mrunali Kadwe\"\n",
        "print(string_name)"
      ],
      "metadata": {
        "colab": {
          "base_uri": "https://localhost:8080/"
        },
        "id": "7ipy3WSxyOKf",
        "outputId": "33e132fa-05e9-4687-85f7-5ec7047b4731"
      },
      "execution_count": 1,
      "outputs": [
        {
          "output_type": "stream",
          "name": "stdout",
          "text": [
            "Mrunali Kadwe\n"
          ]
        }
      ]
    },
    {
      "cell_type": "markdown",
      "source": [
        "2. **Write a code to find the length of the string \"Hello World\".**"
      ],
      "metadata": {
        "id": "H9WPUr0kykcr"
      }
    },
    {
      "cell_type": "code",
      "source": [
        "string = \"Hello World\"\n",
        "len(string)"
      ],
      "metadata": {
        "colab": {
          "base_uri": "https://localhost:8080/"
        },
        "id": "7B-evbM-yfcz",
        "outputId": "e55b7b8e-b6f2-41a1-8a59-68e92e1782be"
      },
      "execution_count": 2,
      "outputs": [
        {
          "output_type": "execute_result",
          "data": {
            "text/plain": [
              "11"
            ]
          },
          "metadata": {},
          "execution_count": 2
        }
      ]
    },
    {
      "cell_type": "markdown",
      "source": [
        "3. **Write a code to slice the first 3 characters from the string \"Python Programming\".**"
      ],
      "metadata": {
        "id": "T6prMs6dyu1U"
      }
    },
    {
      "cell_type": "code",
      "source": [
        "slice_character = \"Python Programming\"\n",
        "slice_character[:3]"
      ],
      "metadata": {
        "colab": {
          "base_uri": "https://localhost:8080/",
          "height": 36
        },
        "id": "Avtp2HAPyj2Q",
        "outputId": "18fb6457-853b-4200-836a-4410cf57ab6f"
      },
      "execution_count": 3,
      "outputs": [
        {
          "output_type": "execute_result",
          "data": {
            "text/plain": [
              "'Pyt'"
            ],
            "application/vnd.google.colaboratory.intrinsic+json": {
              "type": "string"
            }
          },
          "metadata": {},
          "execution_count": 3
        }
      ]
    },
    {
      "cell_type": "markdown",
      "source": [
        "4. **Write a code to convert the string \"hello\" to uppercase**"
      ],
      "metadata": {
        "id": "o0reW4C3y_y7"
      }
    },
    {
      "cell_type": "code",
      "source": [
        "my_string = \"hello\"\n",
        "uppercase_string = my_string.upper()\n",
        "uppercase_string"
      ],
      "metadata": {
        "colab": {
          "base_uri": "https://localhost:8080/",
          "height": 36
        },
        "id": "wBgil7Qfy7kK",
        "outputId": "eda2e47f-4092-41e9-fa00-f8b44e9ef625"
      },
      "execution_count": 4,
      "outputs": [
        {
          "output_type": "execute_result",
          "data": {
            "text/plain": [
              "'HELLO'"
            ],
            "application/vnd.google.colaboratory.intrinsic+json": {
              "type": "string"
            }
          },
          "metadata": {},
          "execution_count": 4
        }
      ]
    },
    {
      "cell_type": "markdown",
      "source": [
        "5. **Write a code to replace the word \"apple\" with \"orange\" in the string \"I like apple\".**"
      ],
      "metadata": {
        "id": "smRktvizzK0r"
      }
    },
    {
      "cell_type": "code",
      "source": [
        "my_string = \"I like apple\"\n",
        "updated_string = my_string.replace(\"apple\", \"orange\")\n",
        "updated_string"
      ],
      "metadata": {
        "colab": {
          "base_uri": "https://localhost:8080/",
          "height": 36
        },
        "id": "YYc5nuOQzKIu",
        "outputId": "9a840285-e90d-4442-b1aa-36786f47d4e2"
      },
      "execution_count": 5,
      "outputs": [
        {
          "output_type": "execute_result",
          "data": {
            "text/plain": [
              "'I like orange'"
            ],
            "application/vnd.google.colaboratory.intrinsic+json": {
              "type": "string"
            }
          },
          "metadata": {},
          "execution_count": 5
        }
      ]
    },
    {
      "cell_type": "markdown",
      "source": [
        "6. **Write a code to create a list with numbers 1 to 5 and print it.**"
      ],
      "metadata": {
        "id": "FwWvE0VHzbtg"
      }
    },
    {
      "cell_type": "code",
      "source": [
        "my_list = list(range(1,6))\n",
        "my_list"
      ],
      "metadata": {
        "colab": {
          "base_uri": "https://localhost:8080/"
        },
        "id": "alPGcjyuzWvG",
        "outputId": "19c33557-376b-42f4-b526-fd9b2c366d19"
      },
      "execution_count": 6,
      "outputs": [
        {
          "output_type": "execute_result",
          "data": {
            "text/plain": [
              "[1, 2, 3, 4, 5]"
            ]
          },
          "metadata": {},
          "execution_count": 6
        }
      ]
    },
    {
      "cell_type": "markdown",
      "source": [
        "7. **Write a code to append the number 10 to the list [1, 2, 3, 4].**"
      ],
      "metadata": {
        "id": "JsnA--a1zpRA"
      }
    },
    {
      "cell_type": "code",
      "source": [
        "given_list = [1,2,3,4]\n",
        "given_list.append(10)\n",
        "given_list"
      ],
      "metadata": {
        "colab": {
          "base_uri": "https://localhost:8080/"
        },
        "id": "oMB6SVRQzmQf",
        "outputId": "98cad5b9-81ed-448e-87d1-527369dffd57"
      },
      "execution_count": 7,
      "outputs": [
        {
          "output_type": "execute_result",
          "data": {
            "text/plain": [
              "[1, 2, 3, 4, 10]"
            ]
          },
          "metadata": {},
          "execution_count": 7
        }
      ]
    },
    {
      "cell_type": "markdown",
      "source": [
        "8. **Write a code to remove the number 3 from the list [1, 2, 3, 4, 5]**."
      ],
      "metadata": {
        "id": "JXdC4B1uz1Nz"
      }
    },
    {
      "cell_type": "code",
      "source": [
        "given_list = [1,2,3,4,5]\n",
        "given_list.remove(3)\n",
        "given_list"
      ],
      "metadata": {
        "colab": {
          "base_uri": "https://localhost:8080/"
        },
        "id": "jmcAUBnKzwz6",
        "outputId": "15043a2e-bced-4781-a91c-673cb1f05135"
      },
      "execution_count": 8,
      "outputs": [
        {
          "output_type": "execute_result",
          "data": {
            "text/plain": [
              "[1, 2, 4, 5]"
            ]
          },
          "metadata": {},
          "execution_count": 8
        }
      ]
    },
    {
      "cell_type": "markdown",
      "source": [
        "9. **Write a code to access the second element in the list ['a', 'b', 'c', 'd'].**"
      ],
      "metadata": {
        "id": "J1MvtLVuz64Y"
      }
    },
    {
      "cell_type": "code",
      "source": [
        "given_list = ['a','b','c','d']\n",
        "second_element = given_list[1]\n",
        "second_element"
      ],
      "metadata": {
        "colab": {
          "base_uri": "https://localhost:8080/",
          "height": 36
        },
        "id": "f4x2lbuBz6N9",
        "outputId": "81338dd3-3d3c-4d47-db94-4096c1e210e0"
      },
      "execution_count": 9,
      "outputs": [
        {
          "output_type": "execute_result",
          "data": {
            "text/plain": [
              "'b'"
            ],
            "application/vnd.google.colaboratory.intrinsic+json": {
              "type": "string"
            }
          },
          "metadata": {},
          "execution_count": 9
        }
      ]
    },
    {
      "cell_type": "markdown",
      "source": [
        "10. **Write a code to reverse the list [10, 20, 30, 40, 50].**\n"
      ],
      "metadata": {
        "id": "tWylwQU_0H2I"
      }
    },
    {
      "cell_type": "code",
      "source": [
        "my_list = [10,20,30,40,50]\n",
        "reverse_list = my_list[::-1]\n",
        "print(f\"original list: {my_list}\")\n",
        "print(f\"reverse list: {reverse_list}\")"
      ],
      "metadata": {
        "colab": {
          "base_uri": "https://localhost:8080/"
        },
        "id": "-OoI3QUK0Evi",
        "outputId": "295be4e2-6247-404a-d1bc-8420aff8eadb"
      },
      "execution_count": 10,
      "outputs": [
        {
          "output_type": "stream",
          "name": "stdout",
          "text": [
            "original list: [10, 20, 30, 40, 50]\n",
            "reverse list: [50, 40, 30, 20, 10]\n"
          ]
        }
      ]
    },
    {
      "cell_type": "markdown",
      "source": [
        "11. **Write a code to create a tuple with the elements 100, 200, 300 and print it.**"
      ],
      "metadata": {
        "id": "-MCTtkva0SaV"
      }
    },
    {
      "cell_type": "code",
      "source": [
        "my_tuple = (100, 200, 300)\n",
        "print(my_tuple)"
      ],
      "metadata": {
        "colab": {
          "base_uri": "https://localhost:8080/"
        },
        "id": "WoOMOa890N7P",
        "outputId": "14e599c0-6044-4919-a4d4-0f12caa1cd19"
      },
      "execution_count": 11,
      "outputs": [
        {
          "output_type": "stream",
          "name": "stdout",
          "text": [
            "(100, 200, 300)\n"
          ]
        }
      ]
    },
    {
      "cell_type": "markdown",
      "source": [
        "12. **Write a code to access the second-to-last element of the tuple ('red', 'green', 'blue', 'yellow').**"
      ],
      "metadata": {
        "id": "D3lwqRjO0dwX"
      }
    },
    {
      "cell_type": "code",
      "source": [
        "my_tuple = ('red', 'green', 'blue', 'yellow')\n",
        "second_to_last_element = my_tuple[-2]\n",
        "print(second_to_last_element)"
      ],
      "metadata": {
        "colab": {
          "base_uri": "https://localhost:8080/"
        },
        "id": "i_cmFT660Ynf",
        "outputId": "000dcfe4-0be5-4900-ae5f-1f2a823db88f"
      },
      "execution_count": 12,
      "outputs": [
        {
          "output_type": "stream",
          "name": "stdout",
          "text": [
            "blue\n"
          ]
        }
      ]
    },
    {
      "cell_type": "markdown",
      "source": [
        "13. **Write a code to find the minimum number in the tuple (10, 20, 5, 15).**"
      ],
      "metadata": {
        "id": "FClJKgXz0l3b"
      }
    },
    {
      "cell_type": "code",
      "source": [
        "given_tuple = (10, 20, 5, 15)\n",
        "minimun_number = min(given_tuple)\n",
        "minimun_number"
      ],
      "metadata": {
        "colab": {
          "base_uri": "https://localhost:8080/"
        },
        "id": "lLwePr3X0jCv",
        "outputId": "4ef35592-8f6b-4b6d-81dd-c04ad28fcbc0"
      },
      "execution_count": 13,
      "outputs": [
        {
          "output_type": "execute_result",
          "data": {
            "text/plain": [
              "5"
            ]
          },
          "metadata": {},
          "execution_count": 13
        }
      ]
    },
    {
      "cell_type": "markdown",
      "source": [
        "14. **Write a code to find the index of the element \"cat\" in the tuple ('dog', 'cat', 'rabbit').**"
      ],
      "metadata": {
        "id": "FllEU9mS0uOC"
      }
    },
    {
      "cell_type": "code",
      "source": [
        "animals = ('dog', 'cat', 'rabbit')\n",
        "index = animals.index('cat')\n",
        "print(index)"
      ],
      "metadata": {
        "colab": {
          "base_uri": "https://localhost:8080/"
        },
        "id": "R2CX3Ond0rId",
        "outputId": "81844d51-5e7f-403c-d1c1-e39f84647213"
      },
      "execution_count": 14,
      "outputs": [
        {
          "output_type": "stream",
          "name": "stdout",
          "text": [
            "1\n"
          ]
        }
      ]
    },
    {
      "cell_type": "markdown",
      "source": [
        "15. **Write a code to create a tuple containing three different fruits and check if \"kiwi\" is in it**."
      ],
      "metadata": {
        "id": "o1-uMsD201nd"
      }
    },
    {
      "cell_type": "code",
      "source": [
        "fruits_tuple = (\"grapes\", \"pineapple\", \"kiwi\")\n",
        "if \"kiwi\" in fruits_tuple:\n",
        "  print(\"kiwi is in given tuple\")\n",
        "else:\n",
        "  print(\"kiwi is not in given tuple\")"
      ],
      "metadata": {
        "colab": {
          "base_uri": "https://localhost:8080/"
        },
        "id": "vGSqme8m0ym8",
        "outputId": "5c9a5514-006a-4ed1-da0a-20c39b204b6d"
      },
      "execution_count": 16,
      "outputs": [
        {
          "output_type": "stream",
          "name": "stdout",
          "text": [
            "kiwi is in given tuple\n"
          ]
        }
      ]
    },
    {
      "cell_type": "markdown",
      "source": [
        "16. **Write a code to create a set with the elements 'a', 'b', 'c' and print it.**"
      ],
      "metadata": {
        "id": "wnr1Cvnq1OJQ"
      }
    },
    {
      "cell_type": "code",
      "source": [
        "my_set = {'a','b','c'}\n",
        "print(my_set)"
      ],
      "metadata": {
        "colab": {
          "base_uri": "https://localhost:8080/"
        },
        "id": "FtecwClS09Rm",
        "outputId": "38ccdb8e-5af3-4172-d895-addf68aba103"
      },
      "execution_count": 17,
      "outputs": [
        {
          "output_type": "stream",
          "name": "stdout",
          "text": [
            "{'a', 'b', 'c'}\n"
          ]
        }
      ]
    },
    {
      "cell_type": "markdown",
      "source": [
        "17. **Write a code to clear all elements from the set {1, 2, 3, 4, 5}.**"
      ],
      "metadata": {
        "id": "rXaMm8XY1Y6o"
      }
    },
    {
      "cell_type": "code",
      "source": [
        "my_set = {1, 2, 3, 4, 5}\n",
        "print(\"Original set:\", my_set)\n",
        "\n",
        "my_set.clear()\n",
        "print(\"Set after clearing:\", my_set)"
      ],
      "metadata": {
        "colab": {
          "base_uri": "https://localhost:8080/"
        },
        "id": "tpKPRXFS1Vmn",
        "outputId": "cd4d77f0-ff53-4365-e74a-15cb0512e510"
      },
      "execution_count": 18,
      "outputs": [
        {
          "output_type": "stream",
          "name": "stdout",
          "text": [
            "Original set: {1, 2, 3, 4, 5}\n",
            "Set after clearing: set()\n"
          ]
        }
      ]
    },
    {
      "cell_type": "markdown",
      "source": [
        "18. **Write a code to remove the element 4 from the set {1, 2, 3, 4}.**"
      ],
      "metadata": {
        "id": "_m5aK_GK1iHZ"
      }
    },
    {
      "cell_type": "code",
      "source": [
        "given_set = [1,2,3,4]\n",
        "given_set.remove(4)\n",
        "given_set"
      ],
      "metadata": {
        "colab": {
          "base_uri": "https://localhost:8080/"
        },
        "id": "R59XyRY_1e6W",
        "outputId": "7aeeae7f-26eb-472d-c37d-ebad6c8e9c53"
      },
      "execution_count": 19,
      "outputs": [
        {
          "output_type": "execute_result",
          "data": {
            "text/plain": [
              "[1, 2, 3]"
            ]
          },
          "metadata": {},
          "execution_count": 19
        }
      ]
    },
    {
      "cell_type": "markdown",
      "source": [
        "19. **Write a code to find the union of two sets {1, 2, 3} and {3, 4, 5}.**"
      ],
      "metadata": {
        "id": "EukskWAy1o9k"
      }
    },
    {
      "cell_type": "code",
      "source": [
        "set1 = {1,2,3}\n",
        "set2 = {3,4,5}\n",
        "union_set = set1 | set2\n",
        "union_set"
      ],
      "metadata": {
        "colab": {
          "base_uri": "https://localhost:8080/"
        },
        "id": "RIRKIMZK1mXi",
        "outputId": "7d80d71c-2932-4b4a-8bde-f54eefde84c7"
      },
      "execution_count": 20,
      "outputs": [
        {
          "output_type": "execute_result",
          "data": {
            "text/plain": [
              "{1, 2, 3, 4, 5}"
            ]
          },
          "metadata": {},
          "execution_count": 20
        }
      ]
    },
    {
      "cell_type": "markdown",
      "source": [
        "20. **Write a code to find the intersection of two sets {1, 2, 3} and {2, 3, 4}.**"
      ],
      "metadata": {
        "id": "bZRSkwgZ10Tk"
      }
    },
    {
      "cell_type": "code",
      "source": [
        "set1 = {1,2,3}\n",
        "set2 = {2,3,4}\n",
        "intersection_set = set1 & set2\n",
        "intersection_set"
      ],
      "metadata": {
        "colab": {
          "base_uri": "https://localhost:8080/"
        },
        "id": "93FTxzig1xcm",
        "outputId": "5d1980eb-bce4-43c4-ff96-0e95c15d0d79"
      },
      "execution_count": 21,
      "outputs": [
        {
          "output_type": "execute_result",
          "data": {
            "text/plain": [
              "{2, 3}"
            ]
          },
          "metadata": {},
          "execution_count": 21
        }
      ]
    },
    {
      "cell_type": "markdown",
      "source": [
        "21. **Write a code to create a dictionary with the keys \"name\", \"age\", and \"city\", and print it.**"
      ],
      "metadata": {
        "id": "EwZTNybA1-_r"
      }
    },
    {
      "cell_type": "code",
      "source": [
        "my_dictionary = {'name':'Mrunali','age':'22','city':'Nagpur'}\n",
        "my_dictionary"
      ],
      "metadata": {
        "colab": {
          "base_uri": "https://localhost:8080/"
        },
        "id": "sonAtcde18SQ",
        "outputId": "bde35060-4a76-441b-beec-6d84cc0d6f83"
      },
      "execution_count": 22,
      "outputs": [
        {
          "output_type": "execute_result",
          "data": {
            "text/plain": [
              "{'name': 'Mrunali', 'age': '22', 'city': 'Nagpur'}"
            ]
          },
          "metadata": {},
          "execution_count": 22
        }
      ]
    },
    {
      "cell_type": "markdown",
      "source": [
        "22. **Write a code to add a new key-value pair \"country\": \"USA\" to the dictionary {'name': 'John', 'age': 25}.**"
      ],
      "metadata": {
        "id": "-ZdcBi0D2MQk"
      }
    },
    {
      "cell_type": "code",
      "source": [
        "my_dict = {'name': 'John', 'age': 25}\n",
        "\n",
        "# Add the new key-value pair\n",
        "my_dict['country'] = 'USA'\n",
        "\n",
        "print(my_dict)"
      ],
      "metadata": {
        "colab": {
          "base_uri": "https://localhost:8080/"
        },
        "id": "yC51Jh5I2JEp",
        "outputId": "6fd4cd49-4851-4b2d-8cd9-b68287432741"
      },
      "execution_count": 23,
      "outputs": [
        {
          "output_type": "stream",
          "name": "stdout",
          "text": [
            "{'name': 'John', 'age': 25, 'country': 'USA'}\n"
          ]
        }
      ]
    },
    {
      "cell_type": "markdown",
      "source": [
        "23. **Write a code to access the value associated with the key \"name\" in the dictionary {'name': 'Alice', 'age': 30}.**"
      ],
      "metadata": {
        "id": "ngZ5FfmN2Xri"
      }
    },
    {
      "cell_type": "code",
      "source": [
        "my_dictionary = {'name':'ALice','age':30}\n",
        "name_value = my_dictionary['name']\n",
        "name_value"
      ],
      "metadata": {
        "colab": {
          "base_uri": "https://localhost:8080/",
          "height": 36
        },
        "id": "yw5Z3ivC2UvN",
        "outputId": "7306edc3-1ca5-40c5-9a8e-3f934b26e08d"
      },
      "execution_count": 24,
      "outputs": [
        {
          "output_type": "execute_result",
          "data": {
            "text/plain": [
              "'ALice'"
            ],
            "application/vnd.google.colaboratory.intrinsic+json": {
              "type": "string"
            }
          },
          "metadata": {},
          "execution_count": 24
        }
      ]
    },
    {
      "cell_type": "markdown",
      "source": [
        "24. **Write a code to remove the key \"age\" from the dictionary {'name': 'Bob', 'age': 22, 'city': 'New York'}.**"
      ],
      "metadata": {
        "id": "jS5ogHxt2gNu"
      }
    },
    {
      "cell_type": "code",
      "source": [
        "dict1 = {'name': 'Bob', 'age': 22, 'city': 'New York'}\n",
        "print(\"Original dictionary:\", dict1)\n",
        "\n",
        "del dict1['age']\n",
        "print(\"Dictionary after using del:\", dict1)"
      ],
      "metadata": {
        "colab": {
          "base_uri": "https://localhost:8080/"
        },
        "id": "O_QBqLih2cXA",
        "outputId": "12b92c30-073e-44ea-baba-a61807252c0f"
      },
      "execution_count": 25,
      "outputs": [
        {
          "output_type": "stream",
          "name": "stdout",
          "text": [
            "Original dictionary: {'name': 'Bob', 'age': 22, 'city': 'New York'}\n",
            "Dictionary after using del: {'name': 'Bob', 'city': 'New York'}\n"
          ]
        }
      ]
    },
    {
      "cell_type": "markdown",
      "source": [
        "25. **Write a code to check if the key \"city\" exists in the dictionary {'name': 'Alice', 'city': 'Paris'}.**"
      ],
      "metadata": {
        "id": "bBqwLcD52oEW"
      }
    },
    {
      "cell_type": "code",
      "source": [
        "person = {'name': 'Alice', 'city': 'Paris'}\n",
        "\n",
        "if \"city\" in person.keys():\n",
        "    print(\"The key 'city' exists in the dictionary \")\n",
        "else:\n",
        "    print(\"The key 'city' does not exist in the dictionary\")"
      ],
      "metadata": {
        "colab": {
          "base_uri": "https://localhost:8080/"
        },
        "id": "74zzEnjB2lff",
        "outputId": "82838bf9-c186-4a33-ca5d-34d504fcb706"
      },
      "execution_count": 26,
      "outputs": [
        {
          "output_type": "stream",
          "name": "stdout",
          "text": [
            "The key 'city' exists in the dictionary \n"
          ]
        }
      ]
    },
    {
      "cell_type": "markdown",
      "source": [
        "26. **Write a code to create a list, a tuple, and a dictionary, and print them all**."
      ],
      "metadata": {
        "id": "0JnsEat72wgM"
      }
    },
    {
      "cell_type": "code",
      "source": [
        "# Create a list\n",
        "my_list = [\"mango\", \"kiwi\", \"grapes\", 12, 20, 53]\n",
        "\n",
        "# Create a tuple\n",
        "my_tuple = (\"orange\", \"green\", \"blue\", 55,620)\n",
        "\n",
        "# Create a dictionary\n",
        "my_dictionary = {\n",
        "    \"name\": \"Cris\",\n",
        "    \"age\": 23,\n",
        "    \"city\": \"Paris\"\n",
        "}\n",
        "\n",
        "# Print the data structures\n",
        "print(\"My List:\", my_list)\n",
        "print(\"My Tuple:\", my_tuple)\n",
        "print(\"My Dictionary:\", my_dictionary)"
      ],
      "metadata": {
        "colab": {
          "base_uri": "https://localhost:8080/"
        },
        "id": "mE-9Ilw02tVN",
        "outputId": "07e134e7-d13a-4c44-b811-16628eadca01"
      },
      "execution_count": 27,
      "outputs": [
        {
          "output_type": "stream",
          "name": "stdout",
          "text": [
            "My List: ['mango', 'kiwi', 'grapes', 12, 20, 53]\n",
            "My Tuple: ('orange', 'green', 'blue', 55, 620)\n",
            "My Dictionary: {'name': 'Cris', 'age': 23, 'city': 'Paris'}\n"
          ]
        }
      ]
    },
    {
      "cell_type": "markdown",
      "source": [
        "27. **Write a code to create a list of 5 random numbers between 1 and 100, sort it in ascending order, and print the result.(replaced)**"
      ],
      "metadata": {
        "id": "ekZ2C2G73Xb6"
      }
    },
    {
      "cell_type": "code",
      "source": [
        "import random\n",
        "\n",
        "random_numbers = [random.randint(1, 100) for _ in range(5)]\n",
        "print(\"Original list:\", random_numbers)\n",
        "\n",
        "random_numbers.sort()  # Sort the list in ascending order\n",
        "print(\"Sorted list (ascending):\", random_numbers)"
      ],
      "metadata": {
        "colab": {
          "base_uri": "https://localhost:8080/"
        },
        "id": "BZafSJY33QRQ",
        "outputId": "d55e961e-717c-4eea-9da6-2fc1c7cdf8d0"
      },
      "execution_count": 28,
      "outputs": [
        {
          "output_type": "stream",
          "name": "stdout",
          "text": [
            "Original list: [65, 48, 94, 13, 22]\n",
            "Sorted list (ascending): [13, 22, 48, 65, 94]\n"
          ]
        }
      ]
    },
    {
      "cell_type": "markdown",
      "source": [
        "28. **Write a code to create a list with strings and print the element at the third index.**"
      ],
      "metadata": {
        "id": "o92H-vkn3rpJ"
      }
    },
    {
      "cell_type": "code",
      "source": [
        "Ice_cream = [\"Vanilla\", \"Chocolate\", \"Butterscotch\", \"Pista\", \"Mango\"]\n",
        "\n",
        "# Access and print the element at the third index\n",
        "print(Ice_cream[2])"
      ],
      "metadata": {
        "colab": {
          "base_uri": "https://localhost:8080/"
        },
        "id": "Xl6Aj8rR3n-3",
        "outputId": "9233bb89-b79f-4ca8-b5fe-12b38c950eaa"
      },
      "execution_count": 29,
      "outputs": [
        {
          "output_type": "stream",
          "name": "stdout",
          "text": [
            "Butterscotch\n"
          ]
        }
      ]
    },
    {
      "cell_type": "markdown",
      "source": [
        "29. **Write a code to combine two dictionaries into one and print the result.**"
      ],
      "metadata": {
        "id": "WhTzhnXV4TJO"
      }
    },
    {
      "cell_type": "code",
      "source": [
        "dict1 = {'A': 'Assign', 'B': 'Value'}\n",
        "dict2 = {'B': 'Generate', 'C': 'Code'}\n",
        "\n",
        "dict1.update(dict2) # Update dict1 with elements from dict2.\n",
        "\n",
        "print(dict1)"
      ],
      "metadata": {
        "colab": {
          "base_uri": "https://localhost:8080/"
        },
        "id": "9uHDh-774NXV",
        "outputId": "7d4652e7-9019-49f1-b5d0-7f557fe09dbc"
      },
      "execution_count": 30,
      "outputs": [
        {
          "output_type": "stream",
          "name": "stdout",
          "text": [
            "{'A': 'Assign', 'B': 'Generate', 'C': 'Code'}\n"
          ]
        }
      ]
    },
    {
      "cell_type": "markdown",
      "source": [
        "30. **Write a code to convert a list of strings into a set.**"
      ],
      "metadata": {
        "id": "WSTDCf-6426v"
      }
    },
    {
      "cell_type": "code",
      "source": [
        "list_of_strings = [\"Lipstick\", \"Foundation\", \"Blush\", \"Eyeliner\", \"Nails\", \"Mask\"]\n",
        "\n",
        "# Convert the list to a set\n",
        "set_of_strings = set(list_of_strings)\n",
        "\n",
        "print(\"Original List:\", list_of_strings)\n",
        "print(\"Converted Set:\", set_of_strings)\n"
      ],
      "metadata": {
        "colab": {
          "base_uri": "https://localhost:8080/"
        },
        "id": "5kQfrMCA4zZO",
        "outputId": "8514b35d-2126-44c9-f103-687ba5400f92"
      },
      "execution_count": 31,
      "outputs": [
        {
          "output_type": "stream",
          "name": "stdout",
          "text": [
            "Original List: ['Lipstick', 'Foundation', 'Blush', 'Eyeliner', 'Nails', 'Mask']\n",
            "Converted Set: {'Blush', 'Mask', 'Nails', 'Foundation', 'Eyeliner', 'Lipstick'}\n"
          ]
        }
      ]
    }
  ]
}